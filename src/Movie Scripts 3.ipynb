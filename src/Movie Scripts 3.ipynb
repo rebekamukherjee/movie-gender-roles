{
 "cells": [
  {
   "cell_type": "markdown",
   "metadata": {},
   "source": [
    "# Phase 1"
   ]
  },
  {
   "cell_type": "code",
   "execution_count": 1,
   "metadata": {},
   "outputs": [],
   "source": [
    "import pandas as pd\n",
    "#import urllib2\n",
    "from urllib.request import urlopen\n",
    "from bs4 import BeautifulSoup, Tag, UnicodeDammit\n",
    "import re\n",
    "import sys\n",
    "import os\n",
    "import time\n",
    "from tqdm import tqdm_notebook as tqdm"
   ]
  },
  {
   "cell_type": "code",
   "execution_count": 2,
   "metadata": {},
   "outputs": [],
   "source": [
    "METADATA_FILE = '../data/data/movies_metadata.csv'\n",
    "metadata_frame = pd.read_csv(METADATA_FILE)"
   ]
  },
  {
   "cell_type": "code",
   "execution_count": 3,
   "metadata": {},
   "outputs": [],
   "source": [
    "english_movies = list(metadata_frame[metadata_frame['original_language']=='en'].title.unique())"
   ]
  },
  {
   "cell_type": "code",
   "execution_count": 4,
   "metadata": {},
   "outputs": [],
   "source": [
    "# male: he,him,his,himself,man,boy,lord,sir,father,grandfather,son,grandson,brother,husband,boyfriend,uncle,nephew\n",
    "# female: she,her,hers,herself,woman,girl,lady,madam,mother,grandmother,daughter,granddaughter,sister,wife,girlfriend,aunt,niece\n",
    "\n",
    "gender_patterns = [r\"(?i)\\bhe\\b\",\n",
    "                   r\"(?i)\\bhim\\b\",\n",
    "                   r\"(?i)\\bhis\\b\",\n",
    "                   r\"(?i)\\bhimself\\b\",\n",
    "                   r\"(?i)\\bman\\b\",\n",
    "                   r\"(?i)\\bboy\\b\",\n",
    "                   r\"(?i)\\blord\\b\",\n",
    "                   r\"(?i)\\bsir\\b\",\n",
    "                   r\"(?i)\\bfather\\b\",\n",
    "                   r\"(?i)\\bgrandfather\\b\",\n",
    "                   r\"(?i)\\bson\\b\", \n",
    "                   r\"(?i)\\bgrandson\\b\", \n",
    "                   r\"(?i)\\bbrother\\b\",\n",
    "                   r\"(?i)\\bhusband\\b\",\n",
    "                   r\"(?i)\\bboyfriend\\b\",\n",
    "                   r\"(?i)\\buncle\\b\",\n",
    "                   r\"(?i)\\bnephew\\b\",\n",
    "                   r\"(?i)\\bshe\\b\",\n",
    "                   r\"(?i)\\bher\\b\",\n",
    "                   r\"(?i)\\bhers\\b\",\n",
    "                   r\"(?i)\\bherself\\b\",\n",
    "                   r\"(?i)\\bwoman\\b\",\n",
    "                   r\"(?i)\\bgirl\\b\",\n",
    "                   r\"(?i)\\blady\\b\",\n",
    "                   r\"(?i)\\bmadam\\b\",\n",
    "                   r\"(?i)\\bmother\\b\",\n",
    "                   r\"(?i)\\bgrandmother\\b\",\n",
    "                   r\"(?i)\\bdaughter\\b\", \n",
    "                   r\"(?i)\\bgranddaughter\\b\", \n",
    "                   r\"(?i)\\bsister\\b\",\n",
    "                   r\"(?i)\\bwife\\b\",\n",
    "                   r\"(?i)\\bgirlfriend\\b\",\n",
    "                   r\"(?i)\\baunt\\b\",\n",
    "                   r\"(?i)\\bniece\\b\"]"
   ]
  },
  {
   "cell_type": "code",
   "execution_count": 5,
   "metadata": {},
   "outputs": [],
   "source": [
    "gender_data = []\n",
    "completed_movies = []\n",
    "script_vec = []"
   ]
  },
  {
   "cell_type": "code",
   "execution_count": 7,
   "metadata": {},
   "outputs": [
    {
     "data": {
      "application/vnd.jupyter.widget-view+json": {
       "model_id": "af9e133f30f74849b26438e594e9bc6a",
       "version_major": 2,
       "version_minor": 0
      },
      "text/plain": [
       "HBox(children=(IntProgress(value=0, max=57), HTML(value='')))"
      ]
     },
     "metadata": {},
     "output_type": "display_data"
    },
    {
     "name": "stdout",
     "output_type": "stream",
     "text": [
      "Get-Shorty\n",
      "Completed 11 of 30357. \n"
     ]
    }
   ],
   "source": [
    "for i in tqdm(range(len(english_movies) - 30300)):\n",
    "    \n",
    "    # get movie name and script url\n",
    "    movie = english_movies[i]\n",
    "    if movie in completed_movies:\n",
    "        continue\n",
    "    if movie.split()[0] == 'The':\n",
    "        movie_name = '-'.join(movie.split()[1:])+',-The'\n",
    "    else:\n",
    "        movie_name = '-'.join(movie.split())\n",
    "    script_url = 'http://www.imsdb.com/scripts/' + movie_name + '.html'\n",
    "    \n",
    "    # get script from IMSDB website\n",
    "    try:\n",
    "        html_doc = urlopen(script_url).read()\n",
    "    except:\n",
    "        continue\n",
    "    soup = BeautifulSoup(html_doc, 'lxml')\n",
    "    script = soup.find(\"pre\")\n",
    "#     print(script)\n",
    "    if script == None:\n",
    "        #write movie_name in file\n",
    "        continue\n",
    "    if script.find(\"pre\"):\n",
    "        if script.find('pre').text != u'\\n':\n",
    "            script = script.find(\"pre\")\n",
    "    script_text = u''\n",
    "    \n",
    "    for block in script.descendants:\n",
    "        if(isinstance(block, Tag)):\n",
    "            continue\n",
    "#         print(block)\n",
    "        block = UnicodeDammit(block, soup.original_encoding).unicode_markup\n",
    "        block = block.strip('\\n')\n",
    "        script_text += block\n",
    "    script_vec.append(script_text)\n",
    "    \n",
    "    # create bag of words for gender terms\n",
    "    bow_vector = [0] * len(gender_patterns)\n",
    "    for j in range(len(gender_patterns)):\n",
    "        pattern = gender_patterns[j]\n",
    "        bow_vector[j] = len(re.findall(pattern, script_text))\n",
    "    if bow_vector == [0] * len(gender_patterns):\n",
    "        #write movie_name in file\n",
    "        continue\n",
    "    \n",
    "    # write results\n",
    "    completed_movies.append(movie)\n",
    "    gender_data.append([movie, script_url, bow_vector])\n",
    "    sys.stdout.write('\\rCompleted '+str(len(completed_movies))+' of '+str(len(english_movies))+'. ')\n",
    "    \n",
    "    # pause for a minute after 8 runs\n",
    "    if (len(completed_movies)%8 == 0):\n",
    "        time.sleep(60)"
   ]
  },
  {
   "cell_type": "code",
   "execution_count": 16,
   "metadata": {
    "scrolled": false
   },
   "outputs": [
    {
     "data": {
      "text/plain": [
       "56"
      ]
     },
     "execution_count": 16,
     "metadata": {},
     "output_type": "execute_result"
    }
   ],
   "source": [
    "len(script_vec)"
   ]
  },
  {
   "cell_type": "code",
   "execution_count": 35,
   "metadata": {},
   "outputs": [],
   "source": [
    "gender_dataframe = pd.DataFrame(gender_data, columns=['movie', 'url', 'vector'])"
   ]
  },
  {
   "cell_type": "code",
   "execution_count": 40,
   "metadata": {},
   "outputs": [],
   "source": [
    "gender_dataframe.to_csv('../data/processed/gender_bow.csv')"
   ]
  },
  {
   "cell_type": "markdown",
   "metadata": {},
   "source": [
    "# Phase 2"
   ]
  },
  {
   "cell_type": "code",
   "execution_count": 89,
   "metadata": {},
   "outputs": [],
   "source": [
    "from scipy import spatial\n",
    "from sklearn.cluster import SpectralClustering\n",
    "import numpy as np"
   ]
  },
  {
   "cell_type": "code",
   "execution_count": 46,
   "metadata": {},
   "outputs": [],
   "source": [
    "vectors = list(gender_dataframe['vector'][:300])"
   ]
  },
  {
   "cell_type": "code",
   "execution_count": 91,
   "metadata": {},
   "outputs": [],
   "source": [
    "affinity_matrix = [[0] * 300]*300"
   ]
  },
  {
   "cell_type": "code",
   "execution_count": 92,
   "metadata": {},
   "outputs": [],
   "source": [
    "for i in range(len(vectors)):\n",
    "    for j in range(len(vectors)):\n",
    "        affinity_matrix[i][j] = 1 - spatial.distance.cosine(vectors[i], vectors[j])"
   ]
  },
  {
   "cell_type": "code",
   "execution_count": 93,
   "metadata": {},
   "outputs": [
    {
     "data": {
      "text/plain": [
       "300"
      ]
     },
     "execution_count": 93,
     "metadata": {},
     "output_type": "execute_result"
    }
   ],
   "source": [
    "len(affinity_matrix)"
   ]
  },
  {
   "cell_type": "markdown",
   "metadata": {},
   "source": [
    "## Toy Example"
   ]
  },
  {
   "cell_type": "code",
   "execution_count": 72,
   "metadata": {},
   "outputs": [],
   "source": [
    "v1 = list(gender_dataframe[gender_dataframe['movie']=='Toy Story']['vector'])[0]"
   ]
  },
  {
   "cell_type": "code",
   "execution_count": 73,
   "metadata": {},
   "outputs": [],
   "source": [
    "v2 = list(gender_dataframe[gender_dataframe['movie']=='Braveheart']['vector'])[0]"
   ]
  },
  {
   "cell_type": "code",
   "execution_count": 83,
   "metadata": {},
   "outputs": [],
   "source": [
    "v3 =  list(gender_dataframe[gender_dataframe['movie']=='Notting Hill']['vector'])[0]"
   ]
  },
  {
   "cell_type": "code",
   "execution_count": 75,
   "metadata": {},
   "outputs": [
    {
     "data": {
      "text/plain": [
       "0.9572930887746768"
      ]
     },
     "execution_count": 75,
     "metadata": {},
     "output_type": "execute_result"
    }
   ],
   "source": [
    "1 - spatial.distance.cosine(v1, v2)"
   ]
  },
  {
   "cell_type": "code",
   "execution_count": 84,
   "metadata": {},
   "outputs": [
    {
     "data": {
      "text/plain": [
       "0.6683392206816687"
      ]
     },
     "execution_count": 84,
     "metadata": {},
     "output_type": "execute_result"
    }
   ],
   "source": [
    "1 - spatial.distance.cosine(v1, v3)"
   ]
  },
  {
   "cell_type": "code",
   "execution_count": 85,
   "metadata": {},
   "outputs": [
    {
     "data": {
      "text/plain": [
       "0.8171069568540178"
      ]
     },
     "execution_count": 85,
     "metadata": {},
     "output_type": "execute_result"
    }
   ],
   "source": [
    "1 - spatial.distance.cosine(v2, v3)"
   ]
  },
  {
   "cell_type": "markdown",
   "metadata": {},
   "source": [
    "## Spectral Clustering"
   ]
  },
  {
   "cell_type": "code",
   "execution_count": 90,
   "metadata": {},
   "outputs": [],
   "source": [
    "X = np.array(vectors)"
   ]
  },
  {
   "cell_type": "code",
   "execution_count": 95,
   "metadata": {},
   "outputs": [],
   "source": [
    "affinity_matrix = np.array(affinity_matrix)"
   ]
  },
  {
   "cell_type": "code",
   "execution_count": 96,
   "metadata": {},
   "outputs": [
    {
     "name": "stderr",
     "output_type": "stream",
     "text": [
      "/Users/driveresearch/anaconda3/lib/python2.7/site-packages/sklearn/cluster/spectral.py:467: FutureWarning: elementwise comparison failed; returning scalar instead, but in the future will perform elementwise comparison\n",
      "  if self.affinity == 'nearest_neighbors':\n",
      "/Users/driveresearch/anaconda3/lib/python2.7/site-packages/sklearn/cluster/spectral.py:472: FutureWarning: elementwise comparison failed; returning scalar instead, but in the future will perform elementwise comparison\n",
      "  elif self.affinity == 'precomputed':\n",
      "/Users/driveresearch/anaconda3/lib/python2.7/site-packages/sklearn/metrics/pairwise.py:1574: FutureWarning: elementwise comparison failed; returning scalar instead, but in the future will perform elementwise comparison\n",
      "  if metric == \"precomputed\":\n"
     ]
    },
    {
     "ename": "TypeError",
     "evalue": "unhashable type: 'numpy.ndarray'",
     "output_type": "error",
     "traceback": [
      "\u001b[0;31m---------------------------------------------------------------------------\u001b[0m",
      "\u001b[0;31mTypeError\u001b[0m                                 Traceback (most recent call last)",
      "\u001b[0;32m<ipython-input-96-03d54ebc1a27>\u001b[0m in \u001b[0;36m<module>\u001b[0;34m()\u001b[0m\n\u001b[0;32m----> 1\u001b[0;31m \u001b[0mclustering\u001b[0m \u001b[0;34m=\u001b[0m \u001b[0mSpectralClustering\u001b[0m\u001b[0;34m(\u001b[0m\u001b[0mn_clusters\u001b[0m\u001b[0;34m=\u001b[0m\u001b[0;36m2\u001b[0m\u001b[0;34m,\u001b[0m \u001b[0maffinity\u001b[0m\u001b[0;34m=\u001b[0m\u001b[0maffinity_matrix\u001b[0m\u001b[0;34m,\u001b[0m \u001b[0massign_labels\u001b[0m\u001b[0;34m=\u001b[0m\u001b[0;34m\"discretize\"\u001b[0m\u001b[0;34m,\u001b[0m \u001b[0mrandom_state\u001b[0m\u001b[0;34m=\u001b[0m\u001b[0;36m0\u001b[0m\u001b[0;34m)\u001b[0m\u001b[0;34m.\u001b[0m\u001b[0mfit\u001b[0m\u001b[0;34m(\u001b[0m\u001b[0mX\u001b[0m\u001b[0;34m)\u001b[0m\u001b[0;34m\u001b[0m\u001b[0m\n\u001b[0m",
      "\u001b[0;32m/Users/driveresearch/anaconda3/lib/python2.7/site-packages/sklearn/cluster/spectral.pyc\u001b[0m in \u001b[0;36mfit\u001b[0;34m(self, X, y)\u001b[0m\n\u001b[1;32m    482\u001b[0m             self.affinity_matrix_ = pairwise_kernels(X, metric=self.affinity,\n\u001b[1;32m    483\u001b[0m                                                      \u001b[0mfilter_params\u001b[0m\u001b[0;34m=\u001b[0m\u001b[0mTrue\u001b[0m\u001b[0;34m,\u001b[0m\u001b[0;34m\u001b[0m\u001b[0m\n\u001b[0;32m--> 484\u001b[0;31m                                                      **params)\n\u001b[0m\u001b[1;32m    485\u001b[0m \u001b[0;34m\u001b[0m\u001b[0m\n\u001b[1;32m    486\u001b[0m         \u001b[0mrandom_state\u001b[0m \u001b[0;34m=\u001b[0m \u001b[0mcheck_random_state\u001b[0m\u001b[0;34m(\u001b[0m\u001b[0mself\u001b[0m\u001b[0;34m.\u001b[0m\u001b[0mrandom_state\u001b[0m\u001b[0;34m)\u001b[0m\u001b[0;34m\u001b[0m\u001b[0m\n",
      "\u001b[0;32m/Users/driveresearch/anaconda3/lib/python2.7/site-packages/sklearn/metrics/pairwise.pyc\u001b[0m in \u001b[0;36mpairwise_kernels\u001b[0;34m(X, Y, metric, filter_params, n_jobs, **kwds)\u001b[0m\n\u001b[1;32m   1577\u001b[0m     \u001b[0;32melif\u001b[0m \u001b[0misinstance\u001b[0m\u001b[0;34m(\u001b[0m\u001b[0mmetric\u001b[0m\u001b[0;34m,\u001b[0m \u001b[0mGPKernel\u001b[0m\u001b[0;34m)\u001b[0m\u001b[0;34m:\u001b[0m\u001b[0;34m\u001b[0m\u001b[0m\n\u001b[1;32m   1578\u001b[0m         \u001b[0mfunc\u001b[0m \u001b[0;34m=\u001b[0m \u001b[0mmetric\u001b[0m\u001b[0;34m.\u001b[0m\u001b[0m__call__\u001b[0m\u001b[0;34m\u001b[0m\u001b[0m\n\u001b[0;32m-> 1579\u001b[0;31m     \u001b[0;32melif\u001b[0m \u001b[0mmetric\u001b[0m \u001b[0;32min\u001b[0m \u001b[0mPAIRWISE_KERNEL_FUNCTIONS\u001b[0m\u001b[0;34m:\u001b[0m\u001b[0;34m\u001b[0m\u001b[0m\n\u001b[0m\u001b[1;32m   1580\u001b[0m         \u001b[0;32mif\u001b[0m \u001b[0mfilter_params\u001b[0m\u001b[0;34m:\u001b[0m\u001b[0;34m\u001b[0m\u001b[0m\n\u001b[1;32m   1581\u001b[0m             kwds = dict((k, kwds[k]) for k in kwds\n",
      "\u001b[0;31mTypeError\u001b[0m: unhashable type: 'numpy.ndarray'"
     ]
    }
   ],
   "source": [
    "clustering = SpectralClustering(n_clusters=2, affinity=affinity_matrix, assign_labels=\"discretize\", random_state=0).fit(X)"
   ]
  }
 ],
 "metadata": {
  "kernelspec": {
   "display_name": "Python 3",
   "language": "python",
   "name": "python3"
  },
  "language_info": {
   "codemirror_mode": {
    "name": "ipython",
    "version": 3
   },
   "file_extension": ".py",
   "mimetype": "text/x-python",
   "name": "python",
   "nbconvert_exporter": "python",
   "pygments_lexer": "ipython3",
   "version": "3.6.8"
  }
 },
 "nbformat": 4,
 "nbformat_minor": 2
}
