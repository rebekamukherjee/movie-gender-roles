{
 "cells": [
  {
   "cell_type": "code",
   "execution_count": 58,
   "metadata": {},
   "outputs": [],
   "source": [
    "import pandas as pd\n",
    "import urllib2\n",
    "from bs4 import BeautifulSoup, Tag, UnicodeDammit\n",
    "import re\n",
    "import sys\n",
    "import os\n",
    "import time"
   ]
  },
  {
   "cell_type": "code",
   "execution_count": 2,
   "metadata": {},
   "outputs": [],
   "source": [
    "METADATA_FILE = '../data/data/movies_metadata.csv'\n",
    "metadata_frame = pd.read_csv(METADATA_FILE)"
   ]
  },
  {
   "cell_type": "code",
   "execution_count": 3,
   "metadata": {},
   "outputs": [],
   "source": [
    "english_movies = list(metadata_frame[metadata_frame['original_language']=='en'].title.unique())"
   ]
  },
  {
   "cell_type": "code",
   "execution_count": 4,
   "metadata": {},
   "outputs": [],
   "source": [
    "# male: he,him,his,himself,man,boy,lord,sir,father,grandfather,son,grandson,brother,husband,boyfriend,uncle,nephew\n",
    "# female: she,her,hers,herself,woman,girl,lady,madam,mother,grandmother,daughter,granddaughter,sister,wife,girlfriend,aunt,niece\n",
    "\n",
    "gender_patterns = [r\"(?i)\\bhe\\b\",\n",
    "                   r\"(?i)\\bhim\\b\",\n",
    "                   r\"(?i)\\bhis\\b\",\n",
    "                   r\"(?i)\\bhimself\\b\",\n",
    "                   r\"(?i)\\bman\\b\",\n",
    "                   r\"(?i)\\bboy\\b\",\n",
    "                   r\"(?i)\\blord\\b\",\n",
    "                   r\"(?i)\\bsir\\b\",\n",
    "                   r\"(?i)\\bfather\\b\",\n",
    "                   r\"(?i)\\bgrandfather\\b\",\n",
    "                   r\"(?i)\\bson\\b\", \n",
    "                   r\"(?i)\\bgrandson\\b\", \n",
    "                   r\"(?i)\\bbrother\\b\",\n",
    "                   r\"(?i)\\bhusband\\b\",\n",
    "                   r\"(?i)\\bboyfriend\\b\",\n",
    "                   r\"(?i)\\buncle\\b\",\n",
    "                   r\"(?i)\\bnephew\\b\",\n",
    "                   r\"(?i)\\bshe\\b\",\n",
    "                   r\"(?i)\\bher\\b\",\n",
    "                   r\"(?i)\\bhers\\b\",\n",
    "                   r\"(?i)\\bherself\\b\",\n",
    "                   r\"(?i)\\bwoman\\b\",\n",
    "                   r\"(?i)\\bgirl\\b\",\n",
    "                   r\"(?i)\\blady\\b\",\n",
    "                   r\"(?i)\\bmadam\\b\",\n",
    "                   r\"(?i)\\bmother\\b\",\n",
    "                   r\"(?i)\\bgrandmother\\b\",\n",
    "                   r\"(?i)\\bdaughter\\b\", \n",
    "                   r\"(?i)\\bgranddaughter\\b\", \n",
    "                   r\"(?i)\\bsister\\b\",\n",
    "                   r\"(?i)\\bwife\\b\",\n",
    "                   r\"(?i)\\bgirlfriend\\b\",\n",
    "                   r\"(?i)\\baunt\\b\",\n",
    "                   r\"(?i)\\bniece\\b\"]"
   ]
  },
  {
   "cell_type": "code",
   "execution_count": 24,
   "metadata": {},
   "outputs": [],
   "source": [
    "gender_data = []\n",
    "completed_movies = []"
   ]
  },
  {
   "cell_type": "code",
   "execution_count": 34,
   "metadata": {},
   "outputs": [
    {
     "name": "stdout",
     "output_type": "stream",
     "text": [
      "Completed 304 of 30357. "
     ]
    },
    {
     "ename": "KeyboardInterrupt",
     "evalue": "",
     "output_type": "error",
     "traceback": [
      "\u001b[0;31m---------------------------------------------------------------------------\u001b[0m",
      "\u001b[0;31mKeyboardInterrupt\u001b[0m                         Traceback (most recent call last)",
      "\u001b[0;32m<ipython-input-34-e4e618a7e178>\u001b[0m in \u001b[0;36m<module>\u001b[0;34m()\u001b[0m\n\u001b[1;32m     48\u001b[0m     \u001b[0;31m# pause for a minute after 8 runs\u001b[0m\u001b[0;34m\u001b[0m\u001b[0;34m\u001b[0m\u001b[0m\n\u001b[1;32m     49\u001b[0m     \u001b[0;32mif\u001b[0m \u001b[0;34m(\u001b[0m\u001b[0mlen\u001b[0m\u001b[0;34m(\u001b[0m\u001b[0mcompleted_movies\u001b[0m\u001b[0;34m)\u001b[0m\u001b[0;34m%\u001b[0m\u001b[0;36m8\u001b[0m \u001b[0;34m==\u001b[0m \u001b[0;36m0\u001b[0m\u001b[0;34m)\u001b[0m\u001b[0;34m:\u001b[0m\u001b[0;34m\u001b[0m\u001b[0m\n\u001b[0;32m---> 50\u001b[0;31m         \u001b[0mtime\u001b[0m\u001b[0;34m.\u001b[0m\u001b[0msleep\u001b[0m\u001b[0;34m(\u001b[0m\u001b[0;36m60\u001b[0m\u001b[0;34m)\u001b[0m\u001b[0;34m\u001b[0m\u001b[0m\n\u001b[0m",
      "\u001b[0;31mKeyboardInterrupt\u001b[0m: "
     ]
    }
   ],
   "source": [
    "for i in range(len(english_movies)):\n",
    "    \n",
    "    # get movie name and script url\n",
    "    movie = english_movies[i]\n",
    "    if movie in completed_movies:\n",
    "        continue\n",
    "    if movie.split()[0] == 'The':\n",
    "        movie_name = '-'.join(movie.split()[1:])+',-The'\n",
    "    else:\n",
    "        movie_name = '-'.join(movie.split())\n",
    "    script_url = 'http://www.imsdb.com/scripts/' + movie_name + '.html'\n",
    "    \n",
    "    # get script from IMSDB website\n",
    "    try:\n",
    "        html_doc = urllib2.urlopen(script_url).read()\n",
    "    except:\n",
    "        continue\n",
    "    soup = BeautifulSoup(html_doc, 'lxml')\n",
    "    script = soup.find(\"pre\")\n",
    "    if script == None:\n",
    "        #write movie_name in file\n",
    "        continue\n",
    "    if script.find(\"pre\"):\n",
    "        if script.find('pre').text != u'\\n':\n",
    "            script = script.find(\"pre\")\n",
    "    script_text = u''\n",
    "    for block in script.descendants:\n",
    "        if(isinstance(block, Tag)):\n",
    "            continue\n",
    "        block = UnicodeDammit(block, soup.original_encoding).unicode_markup\n",
    "        block = block.strip('\\n')\n",
    "        script_text += block\n",
    "    \n",
    "    # create bag of words for gender terms\n",
    "    bow_vector = [0] * len(gender_patterns)\n",
    "    for j in range(len(gender_patterns)):\n",
    "        pattern = gender_patterns[j]\n",
    "        bow_vector[j] = len(re.findall(pattern, script_text))\n",
    "    if bow_vector == [0] * len(gender_patterns):\n",
    "        #write movie_name in file\n",
    "        continue\n",
    "    \n",
    "    # write results\n",
    "    completed_movies.append(movie)\n",
    "    gender_data.append([movie, script_url, bow_vector])\n",
    "    sys.stdout.write('\\rCompleted '+str(len(completed_movies))+' of '+str(len(english_movies))+'. ')\n",
    "    \n",
    "    # pause for a minute after 8 runs\n",
    "    if (len(completed_movies)%8 == 0):\n",
    "        time.sleep(60)"
   ]
  },
  {
   "cell_type": "code",
   "execution_count": 35,
   "metadata": {},
   "outputs": [],
   "source": [
    "gender_dataframe = pd.DataFrame(gender_data, columns=['movie', 'url', 'vector'])"
   ]
  },
  {
   "cell_type": "code",
   "execution_count": 40,
   "metadata": {},
   "outputs": [],
   "source": [
    "gender_dataframe.to_csv('../data/processed/gender_bow.csv')"
   ]
  },
  {
   "cell_type": "code",
   "execution_count": 89,
   "metadata": {},
   "outputs": [],
   "source": [
    "from scipy import spatial\n",
    "from sklearn.cluster import SpectralClustering\n",
    "import numpy as np"
   ]
  },
  {
   "cell_type": "code",
   "execution_count": 46,
   "metadata": {},
   "outputs": [],
   "source": [
    "vectors = list(gender_dataframe['vector'][:300])"
   ]
  },
  {
   "cell_type": "code",
   "execution_count": 91,
   "metadata": {},
   "outputs": [],
   "source": [
    "affinity_matrix = [[0] * 300]*300"
   ]
  },
  {
   "cell_type": "code",
   "execution_count": 92,
   "metadata": {},
   "outputs": [],
   "source": [
    "for i in range(len(vectors)):\n",
    "    for j in range(len(vectors)):\n",
    "        affinity_matrix[i][j] = 1 - spatial.distance.cosine(vectors[i], vectors[j])"
   ]
  },
  {
   "cell_type": "code",
   "execution_count": 93,
   "metadata": {},
   "outputs": [
    {
     "data": {
      "text/plain": [
       "300"
      ]
     },
     "execution_count": 93,
     "metadata": {},
     "output_type": "execute_result"
    }
   ],
   "source": [
    "len(affinity_matrix)"
   ]
  },
  {
   "cell_type": "markdown",
   "metadata": {},
   "source": [
    "## Toy Example"
   ]
  },
  {
   "cell_type": "code",
   "execution_count": 72,
   "metadata": {},
   "outputs": [],
   "source": [
    "v1 = list(gender_dataframe[gender_dataframe['movie']=='Toy Story']['vector'])[0]"
   ]
  },
  {
   "cell_type": "code",
   "execution_count": 73,
   "metadata": {},
   "outputs": [],
   "source": [
    "v2 = list(gender_dataframe[gender_dataframe['movie']=='Braveheart']['vector'])[0]"
   ]
  },
  {
   "cell_type": "code",
   "execution_count": 83,
   "metadata": {},
   "outputs": [],
   "source": [
    "v3 =  list(gender_dataframe[gender_dataframe['movie']=='Notting Hill']['vector'])[0]"
   ]
  },
  {
   "cell_type": "code",
   "execution_count": 75,
   "metadata": {},
   "outputs": [
    {
     "data": {
      "text/plain": [
       "0.9572930887746768"
      ]
     },
     "execution_count": 75,
     "metadata": {},
     "output_type": "execute_result"
    }
   ],
   "source": [
    "1 - spatial.distance.cosine(v1, v2)"
   ]
  },
  {
   "cell_type": "code",
   "execution_count": 84,
   "metadata": {},
   "outputs": [
    {
     "data": {
      "text/plain": [
       "0.6683392206816687"
      ]
     },
     "execution_count": 84,
     "metadata": {},
     "output_type": "execute_result"
    }
   ],
   "source": [
    "1 - spatial.distance.cosine(v1, v3)"
   ]
  },
  {
   "cell_type": "code",
   "execution_count": 85,
   "metadata": {},
   "outputs": [
    {
     "data": {
      "text/plain": [
       "0.8171069568540178"
      ]
     },
     "execution_count": 85,
     "metadata": {},
     "output_type": "execute_result"
    }
   ],
   "source": [
    "1 - spatial.distance.cosine(v2, v3)"
   ]
  }
 ],
 "metadata": {
  "kernelspec": {
   "display_name": "Python 2",
   "language": "python",
   "name": "python2"
  },
  "language_info": {
   "codemirror_mode": {
    "name": "ipython",
    "version": 2
   },
   "file_extension": ".py",
   "mimetype": "text/x-python",
   "name": "python",
   "nbconvert_exporter": "python",
   "pygments_lexer": "ipython2",
   "version": "2.7.15"
  }
 },
 "nbformat": 4,
 "nbformat_minor": 2
}
