{
 "cells": [
  {
   "cell_type": "code",
   "execution_count": 1,
   "metadata": {},
   "outputs": [],
   "source": [
    "import pickle\n",
    "import re\n",
    "import numpy as np"
   ]
  },
  {
   "cell_type": "code",
   "execution_count": 2,
   "metadata": {},
   "outputs": [],
   "source": [
    "from sklearn.linear_model import LinearRegression"
   ]
  },
  {
   "cell_type": "code",
   "execution_count": 3,
   "metadata": {},
   "outputs": [],
   "source": [
    "import matplotlib\n",
    "from matplotlib import pyplot as plt"
   ]
  },
  {
   "cell_type": "code",
   "execution_count": 4,
   "metadata": {},
   "outputs": [
    {
     "name": "stderr",
     "output_type": "stream",
     "text": [
      "/Users/driveresearch/anaconda3/lib/python2.7/site-packages/tqdm/autonotebook/__init__.py:14: TqdmExperimentalWarning: Using `tqdm.autonotebook.tqdm` in notebook mode. Use `tqdm.tqdm` instead to force console mode (e.g. in jupyter console)\n",
      "  \" (e.g. in jupyter console)\", TqdmExperimentalWarning)\n"
     ]
    }
   ],
   "source": [
    "from dataReader import *"
   ]
  },
  {
   "cell_type": "code",
   "execution_count": 5,
   "metadata": {},
   "outputs": [],
   "source": [
    "with open('../data/processed/movies.pkl', 'rb') as movies_pkl:\n",
    "    movies = pickle.load(movies_pkl)"
   ]
  },
  {
   "cell_type": "markdown",
   "metadata": {},
   "source": [
    "# Year vs. average female-to-male cast ratio"
   ]
  },
  {
   "cell_type": "code",
   "execution_count": 57,
   "metadata": {},
   "outputs": [],
   "source": [
    "yearDict = {}\n",
    "for movie in movies:\n",
    "    if movie.lang == 'en':\n",
    "        num_female = len(movie.cast.get_female_cast())\n",
    "        num_male = len(movie.cast.get_male_cast())\n",
    "        if num_male == 0:\n",
    "            if num_female > 0:\n",
    "                ratio = 1.0\n",
    "            else:\n",
    "                ratio = 0.0\n",
    "        else:\n",
    "            ratio = float(num_female)/num_male\n",
    "        if not isinstance(movie.date, str):\n",
    "            continue\n",
    "        year = int(movie.date[:4])\n",
    "        if year in yearDict:\n",
    "            yearDict[year] += [ratio]\n",
    "        else:\n",
    "            yearDict[year] = [ratio]\n",
    "X = []\n",
    "y = []\n",
    "for year in yearDict:\n",
    "    X.append([int(year)])\n",
    "    y.append(np.mean(yearDict[year]))\n",
    "X = np.array(X)\n",
    "y = np.array(y)"
   ]
  },
  {
   "cell_type": "code",
   "execution_count": 58,
   "metadata": {},
   "outputs": [],
   "source": [
    "reg = LinearRegression().fit(X, y)"
   ]
  },
  {
   "cell_type": "code",
   "execution_count": 59,
   "metadata": {},
   "outputs": [
    {
     "data": {
      "text/plain": [
       "array([0.00310923])"
      ]
     },
     "execution_count": 59,
     "metadata": {},
     "output_type": "execute_result"
    }
   ],
   "source": [
    "reg.coef_"
   ]
  },
  {
   "cell_type": "code",
   "execution_count": 60,
   "metadata": {},
   "outputs": [
    {
     "data": {
      "text/plain": [
       "-5.61080715282031"
      ]
     },
     "execution_count": 60,
     "metadata": {},
     "output_type": "execute_result"
    }
   ],
   "source": [
    "reg.intercept_ "
   ]
  },
  {
   "cell_type": "code",
   "execution_count": 61,
   "metadata": {},
   "outputs": [],
   "source": [
    "y_pred = reg.predict(X)"
   ]
  },
  {
   "cell_type": "code",
   "execution_count": 62,
   "metadata": {
    "scrolled": true
   },
   "outputs": [
    {
     "data": {
      "text/plain": [
       "[<matplotlib.lines.Line2D at 0x1a5fe81b90>]"
      ]
     },
     "execution_count": 62,
     "metadata": {},
     "output_type": "execute_result"
    },
    {
     "data": {
      "image/png": "[encoded data removed]",
      "text/plain": [
       "<Figure size 432x288 with 1 Axes>"
      ]
     },
     "metadata": {
      "needs_background": "light"
     },
     "output_type": "display_data"
    }
   ],
   "source": [
    "plt.scatter(X[:,0],y,color='lightblue')\n",
    "plt.plot(X[:,0],y_pred,color='red', linewidth=2)"
   ]
  },
  {
   "cell_type": "code",
   "execution_count": 48,
   "metadata": {},
   "outputs": [
    {
     "data": {
      "text/plain": [
       "array([0.6698437])"
      ]
     },
     "execution_count": 48,
     "metadata": {},
     "output_type": "execute_result"
    }
   ],
   "source": [
    "reg.predict(np.array([[2020]]))"
   ]
  },
  {
   "cell_type": "code",
   "execution_count": 49,
   "metadata": {},
   "outputs": [
    {
     "data": {
      "text/plain": [
       "array([0.70093603])"
      ]
     },
     "execution_count": 49,
     "metadata": {},
     "output_type": "execute_result"
    }
   ],
   "source": [
    "reg.predict(np.array([[2030]]))"
   ]
  },
  {
   "cell_type": "code",
   "execution_count": 50,
   "metadata": {},
   "outputs": [
    {
     "data": {
      "text/plain": [
       "array([0.73202836])"
      ]
     },
     "execution_count": 50,
     "metadata": {},
     "output_type": "execute_result"
    }
   ],
   "source": [
    "reg.predict(np.array([[2040]]))"
   ]
  },
  {
   "cell_type": "code",
   "execution_count": 51,
   "metadata": {},
   "outputs": [
    {
     "data": {
      "text/plain": [
       "array([0.76312069])"
      ]
     },
     "execution_count": 51,
     "metadata": {},
     "output_type": "execute_result"
    }
   ],
   "source": [
    "reg.predict(np.array([[2050]]))"
   ]
  },
  {
   "cell_type": "markdown",
   "metadata": {},
   "source": [
    "# Regression: year + bow vs. female-to-male cast ratio"
   ]
  },
  {
   "cell_type": "code",
   "execution_count": 52,
   "metadata": {},
   "outputs": [],
   "source": [
    "gender_patterns = [r\"(?i)\\bhe\\b\",\n",
    "                   r\"(?i)\\bhim\\b\",\n",
    "                   r\"(?i)\\bhis\\b\",\n",
    "                   r\"(?i)\\bhimself\\b\",\n",
    "                   r\"(?i)\\bman\\b\",\n",
    "                   r\"(?i)\\bboy\\b\",\n",
    "                   r\"(?i)\\blord\\b\",\n",
    "                   r\"(?i)\\bsir\\b\",\n",
    "                   r\"(?i)\\bfather\\b\",\n",
    "                   r\"(?i)\\bgrandfather\\b\",\n",
    "                   r\"(?i)\\bson\\b\", \n",
    "                   r\"(?i)\\bgrandson\\b\", \n",
    "                   r\"(?i)\\bbrother\\b\",\n",
    "                   r\"(?i)\\bhusband\\b\",\n",
    "                   r\"(?i)\\bboyfriend\\b\",\n",
    "                   r\"(?i)\\buncle\\b\",\n",
    "                   r\"(?i)\\bnephew\\b\",\n",
    "                   r\"(?i)\\bshe\\b\",\n",
    "                   r\"(?i)\\bher\\b\",\n",
    "                   r\"(?i)\\bhers\\b\",\n",
    "                   r\"(?i)\\bherself\\b\",\n",
    "                   r\"(?i)\\bwoman\\b\",\n",
    "                   r\"(?i)\\bgirl\\b\",\n",
    "                   r\"(?i)\\blady\\b\",\n",
    "                   r\"(?i)\\bmadam\\b\",\n",
    "                   r\"(?i)\\bmother\\b\",\n",
    "                   r\"(?i)\\bgrandmother\\b\",\n",
    "                   r\"(?i)\\bdaughter\\b\", \n",
    "                   r\"(?i)\\bgranddaughter\\b\", \n",
    "                   r\"(?i)\\bsister\\b\",\n",
    "                   r\"(?i)\\bwife\\b\",\n",
    "                   r\"(?i)\\bgirlfriend\\b\",\n",
    "                   r\"(?i)\\baunt\\b\",\n",
    "                   r\"(?i)\\bniece\\b\"]"
   ]
  },
  {
   "cell_type": "code",
   "execution_count": 53,
   "metadata": {},
   "outputs": [],
   "source": [
    "X = []\n",
    "y = []\n",
    "for movie in movies:\n",
    "    if movie.lang == 'en':\n",
    "        if not isinstance(movie.date, str):\n",
    "            continue\n",
    "        if not isinstance(movie.overview, str):\n",
    "            continue\n",
    "        year = int(movie.date[:4])\n",
    "        bow_vector = [0] * len(gender_patterns)\n",
    "        for i in range(len(gender_patterns)):\n",
    "            pattern = gender_patterns[i]\n",
    "            bow_vector[i] = len(re.findall(pattern, movie.overview))\n",
    "        num_female = len(movie.cast.get_female_cast())\n",
    "        num_male = len(movie.cast.get_male_cast())\n",
    "        if num_male == 0:\n",
    "            if num_female > 0:\n",
    "                ratio = 1.0\n",
    "            else:\n",
    "                ratio = 0.0\n",
    "        else:\n",
    "            ratio = float(num_female)/num_male\n",
    "        X.append([year] + bow_vector)\n",
    "        y.append(ratio)\n",
    "X = np.array(X)\n",
    "y = np.array(y)"
   ]
  },
  {
   "cell_type": "code",
   "execution_count": 54,
   "metadata": {},
   "outputs": [],
   "source": [
    "reg2 = LinearRegression().fit(X, y)"
   ]
  },
  {
   "cell_type": "code",
   "execution_count": 55,
   "metadata": {},
   "outputs": [
    {
     "data": {
      "text/plain": [
       "array([ 0.00196131, -0.00938181,  0.00060612, -0.01883477, -0.06328047,\n",
       "       -0.04728943, -0.01352373, -0.10219383, -0.04466916, -0.0184048 ,\n",
       "       -0.01386901, -0.00150656,  0.1008569 , -0.02415882,  0.08578996,\n",
       "        0.02704775, -0.02956841,  0.09406215,  0.04004039,  0.0693289 ,\n",
       "       -0.07280574,  0.11247093,  0.11776258,  0.16313531,  0.0632939 ,\n",
       "        0.41049857,  0.14284822,  0.1705879 ,  0.13669169,  0.22338932,\n",
       "        0.11636392,  0.0834649 ,  0.14178295,  0.11000807,  0.07356729])"
      ]
     },
     "execution_count": 55,
     "metadata": {},
     "output_type": "execute_result"
    }
   ],
   "source": [
    "reg2.coef_"
   ]
  },
  {
   "cell_type": "code",
   "execution_count": 56,
   "metadata": {},
   "outputs": [
    {
     "data": {
      "text/plain": [
       "-3.3963871812633526"
      ]
     },
     "execution_count": 56,
     "metadata": {},
     "output_type": "execute_result"
    }
   ],
   "source": [
    "reg2.intercept_ "
   ]
  },
  {
   "cell_type": "code",
   "execution_count": 65,
   "metadata": {},
   "outputs": [
    {
     "name": "stdout",
     "output_type": "stream",
     "text": [
      "[1995, 0, 0, 2, 0, 0, 0, 0, 0, 0, 0, 0, 0, 0, 0, 0, 0, 0, 0, 0, 0, 0, 0, 0, 0, 0, 0, 0, 0, 0, 0, 0, 0, 0, 0]\n",
      "0.333333333333\n"
     ]
    }
   ],
   "source": [
    "for movie in movies:\n",
    "    if movie.title == 'Toy Story':\n",
    "        year = int(movie.date[:4])\n",
    "        bow_vector = [0] * len(gender_patterns)\n",
    "        for i in range(len(gender_patterns)):\n",
    "            pattern = gender_patterns[i]\n",
    "            bow_vector[i] = len(re.findall(pattern, movie.overview))\n",
    "        num_female = len(movie.cast.get_female_cast())\n",
    "        num_male = len(movie.cast.get_male_cast())\n",
    "        if num_male == 0:\n",
    "            if num_female > 0:\n",
    "                ratio = 1.0\n",
    "            else:\n",
    "                ratio = 0.0\n",
    "        else:\n",
    "            ratio = float(num_female)/num_male\n",
    "        print [year] + bow_vector\n",
    "        print ratio"
   ]
  },
  {
   "cell_type": "code",
   "execution_count": null,
   "metadata": {},
   "outputs": [],
   "source": []
  }
 ],
 "metadata": {
  "kernelspec": {
   "display_name": "Python 2",
   "language": "python",
   "name": "python2"
  },
  "language_info": {
   "codemirror_mode": {
    "name": "ipython",
    "version": 2
   },
   "file_extension": ".py",
   "mimetype": "text/x-python",
   "name": "python",
   "nbconvert_exporter": "python",
   "pygments_lexer": "ipython2",
   "version": "2.7.15"
  }
 },
 "nbformat": 4,
 "nbformat_minor": 2
}
