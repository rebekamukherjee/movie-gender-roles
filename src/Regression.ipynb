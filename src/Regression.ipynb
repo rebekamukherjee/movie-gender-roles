{
 "cells": [
  {
   "cell_type": "code",
   "execution_count": 1,
   "metadata": {},
   "outputs": [],
   "source": [
    "import pickle\n",
    "import re\n",
    "import numpy as np"
   ]
  },
  {
   "cell_type": "code",
   "execution_count": 2,
   "metadata": {},
   "outputs": [],
   "source": [
    "from sklearn.linear_model import LinearRegression"
   ]
  },
  {
   "cell_type": "code",
   "execution_count": 3,
   "metadata": {},
   "outputs": [],
   "source": [
    "import matplotlib\n",
    "from matplotlib import pyplot as plt"
   ]
  },
  {
   "cell_type": "code",
   "execution_count": 4,
   "metadata": {},
   "outputs": [
    {
     "name": "stderr",
     "output_type": "stream",
     "text": [
      "/home/archit/anaconda3/lib/python3.7/site-packages/tqdm/autonotebook/__init__.py:14: TqdmExperimentalWarning: Using `tqdm.autonotebook.tqdm` in notebook mode. Use `tqdm.tqdm` instead to force console mode (e.g. in jupyter console)\n",
      "  \" (e.g. in jupyter console)\", TqdmExperimentalWarning)\n"
     ]
    }
   ],
   "source": [
    "from dataReader import *"
   ]
  },
  {
   "cell_type": "code",
   "execution_count": 5,
   "metadata": {},
   "outputs": [],
   "source": [
    "with open('../data/processed/movies.pkl', 'rb') as movies_pkl:\n",
    "    movies = pickle.load(movies_pkl)"
   ]
  },
  {
   "cell_type": "code",
   "execution_count": 6,
   "metadata": {},
   "outputs": [
    {
     "ename": "AttributeError",
     "evalue": "'Movie' object has no attribute 'date'",
     "output_type": "error",
     "traceback": [
      "\u001b[0;31m---------------------------------------------------------------------------\u001b[0m",
      "\u001b[0;31mAttributeError\u001b[0m                            Traceback (most recent call last)",
      "\u001b[0;32m<ipython-input-6-dbf8791d402c>\u001b[0m in \u001b[0;36m<module>\u001b[0;34m\u001b[0m\n\u001b[1;32m     11\u001b[0m         \u001b[0;32melse\u001b[0m\u001b[0;34m:\u001b[0m\u001b[0;34m\u001b[0m\u001b[0;34m\u001b[0m\u001b[0m\n\u001b[1;32m     12\u001b[0m             \u001b[0mratio\u001b[0m \u001b[0;34m=\u001b[0m \u001b[0mfloat\u001b[0m\u001b[0;34m(\u001b[0m\u001b[0mnum_female\u001b[0m\u001b[0;34m)\u001b[0m\u001b[0;34m/\u001b[0m\u001b[0mnum_male\u001b[0m\u001b[0;34m\u001b[0m\u001b[0;34m\u001b[0m\u001b[0m\n\u001b[0;32m---> 13\u001b[0;31m         \u001b[0;32mif\u001b[0m \u001b[0;32mnot\u001b[0m \u001b[0misinstance\u001b[0m\u001b[0;34m(\u001b[0m\u001b[0mmovie\u001b[0m\u001b[0;34m.\u001b[0m\u001b[0mdate\u001b[0m\u001b[0;34m,\u001b[0m \u001b[0mstr\u001b[0m\u001b[0;34m)\u001b[0m\u001b[0;34m:\u001b[0m\u001b[0;34m\u001b[0m\u001b[0;34m\u001b[0m\u001b[0m\n\u001b[0m\u001b[1;32m     14\u001b[0m             \u001b[0;32mcontinue\u001b[0m\u001b[0;34m\u001b[0m\u001b[0;34m\u001b[0m\u001b[0m\n\u001b[1;32m     15\u001b[0m         \u001b[0myear\u001b[0m \u001b[0;34m=\u001b[0m \u001b[0mmovie\u001b[0m\u001b[0;34m.\u001b[0m\u001b[0mdate\u001b[0m\u001b[0;34m[\u001b[0m\u001b[0;34m:\u001b[0m\u001b[0;36m4\u001b[0m\u001b[0;34m]\u001b[0m\u001b[0;34m\u001b[0m\u001b[0;34m\u001b[0m\u001b[0m\n",
      "\u001b[0;31mAttributeError\u001b[0m: 'Movie' object has no attribute 'date'"
     ]
    }
   ],
   "source": [
    "yearDict = {}\n",
    "for movie in movies:\n",
    "    if movie.lang == 'en':\n",
    "        num_female = len(movie.cast.get_female_cast())\n",
    "        num_male = len(movie.cast.get_male_cast())\n",
    "        if num_male == 0:\n",
    "            if num_female > 0:\n",
    "                ratio = 1.0\n",
    "            else:\n",
    "                ratio = 0.0\n",
    "        else:\n",
    "            ratio = float(num_female)/num_male\n",
    "        if not isinstance(movie.date, str):\n",
    "            continue\n",
    "        year = movie.date[:4]\n",
    "        if year in yearDict:\n",
    "            yearDict[year] += [ratio]\n",
    "        else:\n",
    "            yearDict[year] = [ratio]\n",
    "X = []\n",
    "y = []\n",
    "for year in yearDict:\n",
    "    X.append([int(year)])\n",
    "    y.append(np.mean(yearDict[year]))\n",
    "X = np.array(X)\n",
    "y = np.array(y)"
   ]
  },
  {
   "cell_type": "code",
   "execution_count": 23,
   "metadata": {},
   "outputs": [
    {
     "data": {
      "text/plain": [
       "array([[1948],\n",
       "       [1949],\n",
       "       [1942],\n",
       "       [1943],\n",
       "       [1940],\n",
       "       [1941],\n",
       "       [1946],\n",
       "       [1947],\n",
       "       [1944],\n",
       "       [1945],\n",
       "       [2018],\n",
       "       [2015],\n",
       "       [2014],\n",
       "       [2017],\n",
       "       [2016],\n",
       "       [2011],\n",
       "       [2010],\n",
       "       [2013],\n",
       "       [2012],\n",
       "       [1955],\n",
       "       [1954],\n",
       "       [1957],\n",
       "       [1956],\n",
       "       [1951],\n",
       "       [1950],\n",
       "       [1953],\n",
       "       [1952],\n",
       "       [1959],\n",
       "       [1958],\n",
       "       [1920],\n",
       "       [1921],\n",
       "       [1922],\n",
       "       [1923],\n",
       "       [1924],\n",
       "       [1925],\n",
       "       [1926],\n",
       "       [1927],\n",
       "       [1928],\n",
       "       [1929],\n",
       "       [1878],\n",
       "       [1933],\n",
       "       [1932],\n",
       "       [1931],\n",
       "       [1930],\n",
       "       [1937],\n",
       "       [1936],\n",
       "       [1935],\n",
       "       [1934],\n",
       "       [1939],\n",
       "       [1938],\n",
       "       [1908],\n",
       "       [1909],\n",
       "       [1906],\n",
       "       [1907],\n",
       "       [1904],\n",
       "       [1905],\n",
       "       [1902],\n",
       "       [1903],\n",
       "       [1900],\n",
       "       [1901],\n",
       "       [1986],\n",
       "       [1987],\n",
       "       [1984],\n",
       "       [1985],\n",
       "       [1982],\n",
       "       [1983],\n",
       "       [1980],\n",
       "       [1981],\n",
       "       [1988],\n",
       "       [1989],\n",
       "       [1919],\n",
       "       [1918],\n",
       "       [1911],\n",
       "       [1910],\n",
       "       [1913],\n",
       "       [1912],\n",
       "       [1915],\n",
       "       [1914],\n",
       "       [1917],\n",
       "       [1916],\n",
       "       [1991],\n",
       "       [1990],\n",
       "       [1993],\n",
       "       [1992],\n",
       "       [1995],\n",
       "       [1994],\n",
       "       [1997],\n",
       "       [1996],\n",
       "       [1999],\n",
       "       [1998],\n",
       "       [2020],\n",
       "       [1898],\n",
       "       [1899],\n",
       "       [1894],\n",
       "       [1895],\n",
       "       [1896],\n",
       "       [1897],\n",
       "       [1890],\n",
       "       [1891],\n",
       "       [1892],\n",
       "       [1968],\n",
       "       [1969],\n",
       "       [1964],\n",
       "       [1965],\n",
       "       [1966],\n",
       "       [1967],\n",
       "       [1960],\n",
       "       [1961],\n",
       "       [1962],\n",
       "       [1963],\n",
       "       [1883],\n",
       "       [1979],\n",
       "       [1978],\n",
       "       [1977],\n",
       "       [1976],\n",
       "       [1975],\n",
       "       [1974],\n",
       "       [1973],\n",
       "       [1972],\n",
       "       [1971],\n",
       "       [1970],\n",
       "       [2002],\n",
       "       [2003],\n",
       "       [2000],\n",
       "       [2001],\n",
       "       [2006],\n",
       "       [2007],\n",
       "       [2004],\n",
       "       [2005],\n",
       "       [2008],\n",
       "       [2009]])"
      ]
     },
     "execution_count": 23,
     "metadata": {},
     "output_type": "execute_result"
    }
   ],
   "source": [
    "X"
   ]
  },
  {
   "cell_type": "code",
   "execution_count": 24,
   "metadata": {},
   "outputs": [
    {
     "data": {
      "text/plain": [
       "array([0.55949256, 0.42832705, 0.4783545 , 0.59225097, 0.29239503,\n",
       "       0.50699229, 0.56638287, 0.54132205, 0.63810807, 0.55308812,\n",
       "       0.37333333, 0.61626984, 0.59947443, 0.68200885, 0.68592109,\n",
       "       0.60546383, 0.61025445, 0.60416042, 0.5375566 , 0.45275951,\n",
       "       0.51914235, 0.4822365 , 0.43752217, 0.46436838, 0.61812758,\n",
       "       0.42893177, 0.47512155, 0.45895492, 0.48938038, 0.43731884,\n",
       "       0.29397759, 0.35393773, 0.51391895, 0.44020147, 0.62346561,\n",
       "       0.38335313, 0.59186766, 0.46411452, 0.5899433 , 1.        ,\n",
       "       0.50930047, 0.47957015, 0.62003804, 0.70872434, 0.44203954,\n",
       "       0.47256892, 0.49210001, 0.63296257, 0.54920992, 0.46376838,\n",
       "       0.        , 0.33333333, 0.        , 0.        , 0.        ,\n",
       "       0.        , 0.        , 0.        , 0.        , 0.        ,\n",
       "       0.55920558, 0.53940219, 0.50815017, 0.5272701 , 0.53538973,\n",
       "       0.48604316, 0.5215658 , 0.5443399 , 0.56115514, 0.53657076,\n",
       "       0.53921569, 0.71666667, 1.625     , 0.6       , 0.375     ,\n",
       "       0.76388889, 0.4577877 , 0.28952381, 0.42587868, 0.43689812,\n",
       "       0.53686283, 0.59980956, 0.52647161, 0.59720889, 0.60526297,\n",
       "       0.4919943 , 0.5765991 , 0.60511032, 0.58398164, 0.57906623,\n",
       "       0.63636364, 0.        , 0.        , 0.        , 0.        ,\n",
       "       0.        , 0.        , 0.        , 0.        , 0.        ,\n",
       "       0.46184866, 0.49610354, 0.58399453, 0.48763514, 0.51626317,\n",
       "       0.51406039, 0.51014186, 0.53516492, 0.57947407, 0.52476843,\n",
       "       0.        , 0.49512203, 0.51804224, 0.45652646, 0.47367906,\n",
       "       0.51140835, 0.5062552 , 0.48889865, 0.54467815, 0.51689877,\n",
       "       0.52418675, 0.60282638, 0.59084016, 0.69457212, 0.55541773,\n",
       "       0.53793652, 0.61370692, 0.5707167 , 0.58376543, 0.5694782 ,\n",
       "       0.65940126])"
      ]
     },
     "execution_count": 24,
     "metadata": {},
     "output_type": "execute_result"
    }
   ],
   "source": [
    "y"
   ]
  },
  {
   "cell_type": "code",
   "execution_count": 25,
   "metadata": {},
   "outputs": [],
   "source": [
    "reg = LinearRegression().fit(X, y)"
   ]
  },
  {
   "cell_type": "code",
   "execution_count": 26,
   "metadata": {},
   "outputs": [
    {
     "data": {
      "text/plain": [
       "0.26196316934962416"
      ]
     },
     "execution_count": 26,
     "metadata": {},
     "output_type": "execute_result"
    }
   ],
   "source": [
    "reg.score(X, y)"
   ]
  },
  {
   "cell_type": "code",
   "execution_count": 27,
   "metadata": {},
   "outputs": [
    {
     "data": {
      "text/plain": [
       "array([0.00310923])"
      ]
     },
     "execution_count": 27,
     "metadata": {},
     "output_type": "execute_result"
    }
   ],
   "source": [
    "reg.coef_"
   ]
  },
  {
   "cell_type": "code",
   "execution_count": 28,
   "metadata": {},
   "outputs": [
    {
     "data": {
      "text/plain": [
       "-5.610807152820308"
      ]
     },
     "execution_count": 28,
     "metadata": {},
     "output_type": "execute_result"
    }
   ],
   "source": [
    "reg.intercept_ "
   ]
  },
  {
   "cell_type": "code",
   "execution_count": 35,
   "metadata": {},
   "outputs": [],
   "source": [
    "y_pred = reg.predict(X)"
   ]
  },
  {
   "cell_type": "code",
   "execution_count": 46,
   "metadata": {
    "scrolled": true
   },
   "outputs": [
    {
     "data": {
      "text/plain": [
       "[<matplotlib.lines.Line2D at 0x13ddd6290>]"
      ]
     },
     "execution_count": 46,
     "metadata": {},
     "output_type": "execute_result"
    },
    {
     "data": {
      "image/png": "[encoded data removed]",
      "text/plain": [
       "<Figure size 432x288 with 1 Axes>"
      ]
     },
     "metadata": {
      "needs_background": "light"
     },
     "output_type": "display_data"
    }
   ],
   "source": [
    "plt.scatter(X,y,color='lightblue')\n",
    "plt.plot(X,y_pred,color='red', linewidth=2)"
   ]
  },
  {
   "cell_type": "code",
   "execution_count": 47,
   "metadata": {},
   "outputs": [
    {
     "data": {
      "text/plain": [
       "array([0.6698437])"
      ]
     },
     "execution_count": 47,
     "metadata": {},
     "output_type": "execute_result"
    }
   ],
   "source": [
    "reg.predict(np.array([[2020]]))"
   ]
  },
  {
   "cell_type": "code",
   "execution_count": 48,
   "metadata": {},
   "outputs": [
    {
     "data": {
      "text/plain": [
       "array([0.70093603])"
      ]
     },
     "execution_count": 48,
     "metadata": {},
     "output_type": "execute_result"
    }
   ],
   "source": [
    "reg.predict(np.array([[2030]]))"
   ]
  },
  {
   "cell_type": "code",
   "execution_count": 49,
   "metadata": {},
   "outputs": [
    {
     "data": {
      "text/plain": [
       "array([0.73202836])"
      ]
     },
     "execution_count": 49,
     "metadata": {},
     "output_type": "execute_result"
    }
   ],
   "source": [
    "reg.predict(np.array([[2040]]))"
   ]
  },
  {
   "cell_type": "code",
   "execution_count": 50,
   "metadata": {},
   "outputs": [
    {
     "data": {
      "text/plain": [
       "array([0.76312069])"
      ]
     },
     "execution_count": 50,
     "metadata": {},
     "output_type": "execute_result"
    }
   ],
   "source": [
    "reg.predict(np.array([[2050]]))"
   ]
  },
  {
   "cell_type": "code",
   "execution_count": null,
   "metadata": {},
   "outputs": [],
   "source": []
  }
 ],
 "metadata": {
  "kernelspec": {
   "display_name": "Python 3",
   "language": "python",
   "name": "python3"
  },
  "language_info": {
   "codemirror_mode": {
    "name": "ipython",
    "version": 3
   },
   "file_extension": ".py",
   "mimetype": "text/x-python",
   "name": "python",
   "nbconvert_exporter": "python",
   "pygments_lexer": "ipython3",
   "version": "3.7.3"
  }
 },
 "nbformat": 4,
 "nbformat_minor": 2
}
