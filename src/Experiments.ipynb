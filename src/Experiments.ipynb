{
 "cells": [
  {
   "cell_type": "code",
   "execution_count": 1,
   "metadata": {},
   "outputs": [],
   "source": [
    "# %load_ext autoreload\n",
    "# %autoreload 2"
   ]
  },
  {
   "cell_type": "code",
   "execution_count": 2,
   "metadata": {},
   "outputs": [
    {
     "name": "stderr",
     "output_type": "stream",
     "text": [
      "/home/archit/anaconda3/lib/python3.7/site-packages/tqdm/autonotebook/__init__.py:14: TqdmExperimentalWarning: Using `tqdm.autonotebook.tqdm` in notebook mode. Use `tqdm.tqdm` instead to force console mode (e.g. in jupyter console)\n",
      "  \" (e.g. in jupyter console)\", TqdmExperimentalWarning)\n"
     ]
    },
    {
     "name": "stdout",
     "output_type": "stream",
     "text": [
      "Gudhi not found--GraphInducedComplex not available\n"
     ]
    }
   ],
   "source": [
    "import matplotlib.pyplot as plt\n",
    "import utils\n",
    "from models import *\n",
    "from sklearn.metrics import accuracy_score\n",
    "\n",
    "from skorch.dataset import Dataset\n",
    "from skorch import NeuralNetClassifier, callbacks\n",
    "from skorch.helper import predefined_split\n",
    "\n",
    "from sklearn.svm import LinearSVC, SVC\n",
    "from sklearn.ensemble import RandomForestClassifier\n",
    "\n",
    "import matplotlib.pyplot as plt"
   ]
  },
  {
   "cell_type": "code",
   "execution_count": 3,
   "metadata": {},
   "outputs": [],
   "source": [
    "TEST_FRACTION = 0.20\n",
    "EPOCHS        = 20"
   ]
  },
  {
   "cell_type": "code",
   "execution_count": 4,
   "metadata": {},
   "outputs": [],
   "source": [
    "# Read data\n",
    "# data = utils.read_and_build_features()\n",
    "data = utils.read_and_build_features()[:50]  # smaller data for testing purposes\n",
    "\n",
    "# Split into train-test\n",
    "dataset = utils.split_train_test(data, TEST_FRACTION)\n",
    "\n",
    "corr_feature_size = dataset.X_train[0].corr_vector.shape[0]\n",
    "pi_feature_size   = dataset.X_train[0].persistence_image.shape[0]\n",
    "pl_feature_size   = dataset.X_train[0].persistence_landscape.shape[0]\n",
    "pers_input_size   = 50"
   ]
  },
  {
   "cell_type": "code",
   "execution_count": 5,
   "metadata": {},
   "outputs": [],
   "source": [
    "modelManager = ModelManager('../data_processed/', dataset, overwrite=True)"
   ]
  },
  {
   "cell_type": "code",
   "execution_count": 6,
   "metadata": {},
   "outputs": [],
   "source": [
    "featureExtractors = {'corr': utils.get_corr_features,\n",
    "                     'pi_corr': utils.get_pers_img_corr_features,\n",
    "                     'pl_corr': utils.get_pers_landscape_corr_features,\n",
    "                     'pd_corr': utils.get_pers_diag_corr_features,\n",
    "                     'pi': utils.get_pers_img_features,\n",
    "                     'pl': utils.get_pers_landscape_features,\n",
    "                     'pd': utils.get_pers_diag_features,\n",
    "                     'pd_kern': utils.get_pers_diag_kern_features\n",
    "                    }"
   ]
  },
  {
   "cell_type": "markdown",
   "metadata": {},
   "source": [
    "### Correlation models"
   ]
  },
  {
   "cell_type": "code",
   "execution_count": 7,
   "metadata": {},
   "outputs": [],
   "source": [
    "# scheduler = callbacks.LRScheduler(policy='StepLR', step_size=25, gamma=0.1)\n",
    "# checkpoint = callbacks.Checkpoint(f_params='best_model.pt', monitor='valid_acc_best')\n",
    "# progbar = callbacks.ProgressBar()"
   ]
  },
  {
   "cell_type": "code",
   "execution_count": 8,
   "metadata": {},
   "outputs": [],
   "source": [
    "svm_corr = SVC(kernel='linear')\n",
    "rf_corr  = RandomForestClassifier(n_estimators=500, max_depth=5)\n",
    "nn_corr  = NeuralNetClassifier(NNVec([corr_feature_size, 100, 2], dropout_prob=0.5),\n",
    "                               max_epochs=EPOCHS, verbose=False, warm_start=True)\n",
    "# nn_corr  = NeuralNetClassifier(NNVec([corr_feature_size, 100, 2], dropout_prob=0.5),\n",
    "#                                max_epochs=EPOCHS, verbose=False, warm_start=True, lr=1, \n",
    "#                                callbacks=[scheduler, checkpoint])\n",
    "    \n",
    "#nn_corr.initialize()\n",
    "# nn_corr.load_params(f_params='best_model.pt')\n",
    "\n",
    "modelManager.add_model(svm_corr, 'svm_corr', featureExtractors['corr'])\n",
    "modelManager.add_model(rf_corr , 'rf_corr', featureExtractors['corr'])\n",
    "modelManager.add_model(nn_corr, 'nn_corr', featureExtractors['corr'])"
   ]
  },
  {
   "cell_type": "code",
   "execution_count": 9,
   "metadata": {},
   "outputs": [],
   "source": [
    "# nn_corr.initialize()\n",
    "# nn_corr.load_params(f_params='best_model.pt')"
   ]
  },
  {
   "cell_type": "markdown",
   "metadata": {},
   "source": [
    "### Persistence image models"
   ]
  },
  {
   "cell_type": "code",
   "execution_count": 10,
   "metadata": {},
   "outputs": [],
   "source": [
    "svm_pi = SVC(kernel='linear')\n",
    "rf_pi  = RandomForestClassifier(n_estimators=500, max_depth=5)\n",
    "nn_pi  = NeuralNetClassifier(NNVec([pi_feature_size, 10, 2]),\n",
    "                             max_epochs=EPOCHS, verbose=False, warm_start=True)\n",
    "\n",
    "modelManager.add_model(svm_pi, 'svm_pi', featureExtractors['pi'])\n",
    "modelManager.add_model(rf_pi , 'rf_pi', featureExtractors['pi'])\n",
    "modelManager.add_model(nn_pi, 'nn_pi', featureExtractors['pi'])"
   ]
  },
  {
   "cell_type": "markdown",
   "metadata": {},
   "source": [
    "### Persistence Landscape models"
   ]
  },
  {
   "cell_type": "code",
   "execution_count": 11,
   "metadata": {},
   "outputs": [],
   "source": [
    "svm_pl = SVC(kernel='linear')\n",
    "rf_pl  = RandomForestClassifier(n_estimators=500, max_depth=5)\n",
    "nn_pl  = NeuralNetClassifier(NNVec([pl_feature_size, 10, 2], dropout_prob=0.5),\n",
    "                             max_epochs=EPOCHS, verbose=False, warm_start=True)\n",
    "\n",
    "modelManager.add_model(svm_pl, 'svm_pl', featureExtractors['pl'])\n",
    "modelManager.add_model(rf_pl , 'rf_pl', featureExtractors['pl'])\n",
    "modelManager.add_model(nn_pl, 'nn_pl', featureExtractors['pl'])"
   ]
  },
  {
   "cell_type": "markdown",
   "metadata": {},
   "source": [
    "### Persistence diagram models"
   ]
  },
  {
   "cell_type": "code",
   "execution_count": 12,
   "metadata": {},
   "outputs": [],
   "source": [
    "nn_pd = NeuralNetClassifier(NNPersDiag([[pers_input_size, 25], [pers_input_size, 25]], [50, 2], dropout_prob=0.5),\n",
    "                            max_epochs=EPOCHS, verbose=False, warm_start=True)\n",
    "\n",
    "modelManager.add_model(nn_pd, 'nn_pd', featureExtractors['pd'])"
   ]
  },
  {
   "cell_type": "markdown",
   "metadata": {},
   "source": [
    "### Hybrid models"
   ]
  },
  {
   "cell_type": "code",
   "execution_count": 13,
   "metadata": {},
   "outputs": [],
   "source": [
    "pd_corr = NeuralNetClassifier(NNHybridPers([[pers_input_size, 25], [pers_input_size, 25]], [corr_feature_size, 500, 25], [75, 2], dropout_prob=0.5),\n",
    "                              max_epochs=EPOCHS, verbose=False, warm_start=True)\n",
    "pi_corr = NeuralNetClassifier(NNHybridVec([[pi_feature_size, 10], [corr_feature_size, 10]], [20, 10, 2], dropout_prob=0.5),\n",
    "                              max_epochs=EPOCHS, verbose=False, warm_start=True)\n",
    "pl_corr = NeuralNetClassifier(NNHybridVec([[pl_feature_size, 10], [corr_feature_size, 10]], [20, 10, 2], dropout_prob=0.5),\n",
    "                              max_epochs=EPOCHS, verbose=False, warm_start=True)\n",
    "\n",
    "modelManager.add_model(pd_corr, 'pd_corr', featureExtractors['pd_corr'])\n",
    "modelManager.add_model(pi_corr, 'pi_corr', featureExtractors['pi_corr'])\n",
    "modelManager.add_model(pl_corr, 'pl_corr', featureExtractors['pl_corr'])"
   ]
  },
  {
   "cell_type": "markdown",
   "metadata": {},
   "source": [
    "### Topological kernels"
   ]
  },
  {
   "cell_type": "code",
   "execution_count": 14,
   "metadata": {},
   "outputs": [],
   "source": [
    "svm_scalespace        = PersistenceKernelSVM(kernel_type='scale_space')\n",
    "svm_weightedgaussian  = PersistenceKernelSVM(kernel_type='weighted_gaussian')\n",
    "svm_slicedwasserstein = PersistenceKernelSVM(kernel_type='sliced_wasserstein')\n",
    "svm_fisher            = PersistenceKernelSVM(kernel_type='fisher')\n",
    "\n",
    "# modelManager.add_model(svm_scalespace, 'svm_scalespace', featureExtractors['pd_kern'])\n",
    "# modelManager.add_model(svm_weightedgaussian, 'svm_weightedgaussian', featureExtractors['pd_kern'])\n",
    "# modelManager.add_model(svm_slicedwasserstein, 'svm_slicedwasserstein', featureExtractors['pd_kern'])\n",
    "# modelManager.add_model(svm_fisher, 'svm_fisher', featureExtractors['pd_kern'])"
   ]
  },
  {
   "cell_type": "code",
   "execution_count": 15,
   "metadata": {},
   "outputs": [
    {
     "data": {
      "application/vnd.jupyter.widget-view+json": {
       "model_id": "2cc3a4ec0f9c48878fa6d978c638a681",
       "version_major": 2,
       "version_minor": 0
      },
      "text/plain": [
       "HBox(children=(IntProgress(value=0, max=13), HTML(value='')))"
      ]
     },
     "metadata": {},
     "output_type": "display_data"
    },
    {
     "name": "stdout",
     "output_type": "stream",
     "text": [
      "\n"
     ]
    }
   ],
   "source": [
    "modelManager.train_all()"
   ]
  },
  {
   "cell_type": "code",
   "execution_count": 16,
   "metadata": {},
   "outputs": [],
   "source": [
    "modelManager.evaluate_all(accuracy_score)"
   ]
  },
  {
   "cell_type": "code",
   "execution_count": 17,
   "metadata": {},
   "outputs": [
    {
     "data": {
      "text/html": [
       "<div>\n",
       "<style scoped>\n",
       "    .dataframe tbody tr th:only-of-type {\n",
       "        vertical-align: middle;\n",
       "    }\n",
       "\n",
       "    .dataframe tbody tr th {\n",
       "        vertical-align: top;\n",
       "    }\n",
       "\n",
       "    .dataframe thead th {\n",
       "        text-align: right;\n",
       "    }\n",
       "</style>\n",
       "<table border=\"1\" class=\"dataframe\">\n",
       "  <thead>\n",
       "    <tr style=\"text-align: right;\">\n",
       "      <th></th>\n",
       "      <th>Model</th>\n",
       "      <th>Train time</th>\n",
       "      <th>Score</th>\n",
       "    </tr>\n",
       "  </thead>\n",
       "  <tbody>\n",
       "    <tr>\n",
       "      <th>0</th>\n",
       "      <td>svm_corr</td>\n",
       "      <td>0.061681</td>\n",
       "      <td>0.6</td>\n",
       "    </tr>\n",
       "    <tr>\n",
       "      <th>1</th>\n",
       "      <td>rf_corr</td>\n",
       "      <td>0.555226</td>\n",
       "      <td>0.6</td>\n",
       "    </tr>\n",
       "    <tr>\n",
       "      <th>2</th>\n",
       "      <td>nn_corr</td>\n",
       "      <td>0.305447</td>\n",
       "      <td>0.4</td>\n",
       "    </tr>\n",
       "    <tr>\n",
       "      <th>3</th>\n",
       "      <td>svm_pi</td>\n",
       "      <td>0.006061</td>\n",
       "      <td>0.6</td>\n",
       "    </tr>\n",
       "    <tr>\n",
       "      <th>4</th>\n",
       "      <td>rf_pi</td>\n",
       "      <td>0.313481</td>\n",
       "      <td>0.8</td>\n",
       "    </tr>\n",
       "    <tr>\n",
       "      <th>5</th>\n",
       "      <td>nn_pi</td>\n",
       "      <td>0.069431</td>\n",
       "      <td>0.6</td>\n",
       "    </tr>\n",
       "    <tr>\n",
       "      <th>6</th>\n",
       "      <td>svm_pl</td>\n",
       "      <td>0.003193</td>\n",
       "      <td>0.7</td>\n",
       "    </tr>\n",
       "    <tr>\n",
       "      <th>7</th>\n",
       "      <td>rf_pl</td>\n",
       "      <td>0.306805</td>\n",
       "      <td>0.6</td>\n",
       "    </tr>\n",
       "    <tr>\n",
       "      <th>8</th>\n",
       "      <td>nn_pl</td>\n",
       "      <td>0.077070</td>\n",
       "      <td>0.6</td>\n",
       "    </tr>\n",
       "    <tr>\n",
       "      <th>9</th>\n",
       "      <td>nn_pd</td>\n",
       "      <td>1.468540</td>\n",
       "      <td>0.5</td>\n",
       "    </tr>\n",
       "    <tr>\n",
       "      <th>10</th>\n",
       "      <td>pd_corr</td>\n",
       "      <td>2.736780</td>\n",
       "      <td>0.6</td>\n",
       "    </tr>\n",
       "    <tr>\n",
       "      <th>11</th>\n",
       "      <td>pi_corr</td>\n",
       "      <td>0.335302</td>\n",
       "      <td>0.4</td>\n",
       "    </tr>\n",
       "    <tr>\n",
       "      <th>12</th>\n",
       "      <td>pl_corr</td>\n",
       "      <td>0.200477</td>\n",
       "      <td>0.5</td>\n",
       "    </tr>\n",
       "  </tbody>\n",
       "</table>\n",
       "</div>"
      ],
      "text/plain": [
       "       Model  Train time  Score\n",
       "0   svm_corr    0.061681    0.6\n",
       "1    rf_corr    0.555226    0.6\n",
       "2    nn_corr    0.305447    0.4\n",
       "3     svm_pi    0.006061    0.6\n",
       "4      rf_pi    0.313481    0.8\n",
       "5      nn_pi    0.069431    0.6\n",
       "6     svm_pl    0.003193    0.7\n",
       "7      rf_pl    0.306805    0.6\n",
       "8      nn_pl    0.077070    0.6\n",
       "9      nn_pd    1.468540    0.5\n",
       "10   pd_corr    2.736780    0.6\n",
       "11   pi_corr    0.335302    0.4\n",
       "12   pl_corr    0.200477    0.5"
      ]
     },
     "execution_count": 17,
     "metadata": {},
     "output_type": "execute_result"
    }
   ],
   "source": [
    "modelManager.tabulate()"
   ]
  },
  {
   "cell_type": "code",
   "execution_count": 18,
   "metadata": {},
   "outputs": [],
   "source": [
    "import pickle\n",
    "with open('../models/modelManager.pkl', 'wb') as f:\n",
    "    pickle.dump(modelManager, f)"
   ]
  }
 ],
 "metadata": {
  "kernelspec": {
   "display_name": "Python [default]",
   "language": "python",
   "name": "python3"
  },
  "language_info": {
   "codemirror_mode": {
    "name": "ipython",
    "version": 3
   },
   "file_extension": ".py",
   "mimetype": "text/x-python",
   "name": "python",
   "nbconvert_exporter": "python",
   "pygments_lexer": "ipython3",
   "version": "3.7.2"
  },
  "toc": {
   "base_numbering": 1,
   "nav_menu": {},
   "number_sections": false,
   "sideBar": true,
   "skip_h1_title": false,
   "title_cell": "Table of Contents",
   "title_sidebar": "Contents",
   "toc_cell": false,
   "toc_position": {},
   "toc_section_display": true,
   "toc_window_display": false
  }
 },
 "nbformat": 4,
 "nbformat_minor": 2
}
