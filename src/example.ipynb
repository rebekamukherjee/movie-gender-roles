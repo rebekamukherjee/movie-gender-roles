{
 "cells": [
  {
   "cell_type": "code",
   "execution_count": 6,
   "metadata": {
    "collapsed": true
   },
   "outputs": [],
   "source": [
    "import pickle\n",
    "from dataReader import *\n",
    "from pprint import pprint"
   ]
  },
  {
   "cell_type": "code",
   "execution_count": 2,
   "metadata": {
    "collapsed": true
   },
   "outputs": [],
   "source": [
    "with open('../data/processed/movies.pkl', 'rb') as movies_pkl:\n",
    "    movies = pickle.load(movies_pkl)"
   ]
  },
  {
   "cell_type": "code",
   "execution_count": 3,
   "metadata": {
    "collapsed": true
   },
   "outputs": [],
   "source": [
    "t = movies[567]"
   ]
  },
  {
   "cell_type": "code",
   "execution_count": 4,
   "metadata": {},
   "outputs": [
    {
     "data": {
      "text/plain": [
       "ID = 714, Title = Tomorrow Never Dies"
      ]
     },
     "execution_count": 4,
     "metadata": {},
     "output_type": "execute_result"
    }
   ],
   "source": [
    "t"
   ]
  },
  {
   "cell_type": "code",
   "execution_count": 12,
   "metadata": {},
   "outputs": [
    {
     "data": {
      "text/plain": [
       "[{'cast_id': 3,\n",
       "  'character': 'Wai Lin',\n",
       "  'credit_id': '52fe426fc3a36847f801e3d7',\n",
       "  'gender': 1,\n",
       "  'id': 1620,\n",
       "  'name': 'Michelle Yeoh',\n",
       "  'order': 2,\n",
       "  'profile_path': '/OhW6BfeZBRn7iupeI8elngV2EN.jpg'},\n",
       " {'cast_id': 4,\n",
       "  'character': 'Paris Carver',\n",
       "  'credit_id': '52fe426fc3a36847f801e3db',\n",
       "  'gender': 1,\n",
       "  'id': 10742,\n",
       "  'name': 'Teri Hatcher',\n",
       "  'order': 3,\n",
       "  'profile_path': '/xnvUJvf0vjHliYa2PlXyLGaJe9l.jpg'},\n",
       " {'cast_id': 9,\n",
       "  'character': 'M',\n",
       "  'credit_id': '52fe426fc3a36847f801e3ef',\n",
       "  'gender': 1,\n",
       "  'id': 5309,\n",
       "  'name': 'Judi Dench',\n",
       "  'order': 8,\n",
       "  'profile_path': '/2is9RvJ3BQAku2EtCmyk5EZoxzT.jpg'},\n",
       " {'cast_id': 11,\n",
       "  'character': 'Miss Moneypenny',\n",
       "  'credit_id': '52fe426fc3a36847f801e3f7',\n",
       "  'gender': 1,\n",
       "  'id': 10699,\n",
       "  'name': 'Samantha Bond',\n",
       "  'order': 10,\n",
       "  'profile_path': '/vBPkMGAHIoOP2ni9yYKoxCbw4Z0.jpg'},\n",
       " {'cast_id': 38,\n",
       "  'character': 'Tamara Steel',\n",
       "  'credit_id': '5401f026c3a3682d98001b07',\n",
       "  'gender': 1,\n",
       "  'id': 58778,\n",
       "  'name': 'Nina Young',\n",
       "  'order': 15,\n",
       "  'profile_path': '/mD25b2UmlSNyW5q5yz5BCXEY9u.jpg'},\n",
       " {'cast_id': 57,\n",
       "  'character': 'Beth Davidson',\n",
       "  'credit_id': '58863d1cc3a36843c8001ee2',\n",
       "  'gender': 1,\n",
       "  'id': 1247020,\n",
       "  'name': 'Nadia Cameron-Blakey',\n",
       "  'order': 34,\n",
       "  'profile_path': '/yuNMLBYoBZovnrSWBab79ZArBYU.jpg'}]"
      ]
     },
     "execution_count": 12,
     "metadata": {},
     "output_type": "execute_result"
    }
   ],
   "source": [
    "t.cast.get_female_cast()"
   ]
  },
  {
   "cell_type": "code",
   "execution_count": null,
   "metadata": {
    "collapsed": true
   },
   "outputs": [],
   "source": []
  }
 ],
 "metadata": {
  "kernelspec": {
   "display_name": "Python 3",
   "language": "python",
   "name": "python3"
  },
  "language_info": {
   "codemirror_mode": {
    "name": "ipython",
    "version": 3
   },
   "file_extension": ".py",
   "mimetype": "text/x-python",
   "name": "python",
   "nbconvert_exporter": "python",
   "pygments_lexer": "ipython3",
   "version": "3.6.1"
  },
  "toc": {
   "base_numbering": 1,
   "nav_menu": {},
   "number_sections": false,
   "sideBar": true,
   "skip_h1_title": false,
   "title_cell": "Table of Contents",
   "title_sidebar": "Contents",
   "toc_cell": false,
   "toc_position": {},
   "toc_section_display": true,
   "toc_window_display": false
  },
  "widgets": {
   "application/vnd.jupyter.widget-state+json": {
    "state": {
     "0e0976add11149dfada9691fcebfa59f": {
      "model_module": "@jupyter-widgets/controls",
      "model_module_version": "1.4.0",
      "model_name": "HTMLModel",
      "state": {
       "layout": "IPY_MODEL_b6c25540988646a99456734322f677af",
       "style": "IPY_MODEL_97efd23e9a934c3aaf191a489468953c",
       "value": "100% 46629/46629 [00:07&lt;00:00, 6475.40it/s]"
      }
     },
     "0fe6b331915d4de59765453807c5357b": {
      "model_module": "@jupyter-widgets/base",
      "model_module_version": "1.1.0",
      "model_name": "LayoutModel",
      "state": {}
     },
     "19430ad70f3a414cbd9b4373421df72c": {
      "model_module": "@jupyter-widgets/controls",
      "model_module_version": "1.4.0",
      "model_name": "IntProgressModel",
      "state": {
       "bar_style": "success",
       "description": "Converting dataframe to Movie objects",
       "layout": "IPY_MODEL_c8351e473039472f92f7bf7adad9d6aa",
       "max": 46629,
       "style": "IPY_MODEL_479a0a0d5de54a4ea2d0c674ac0ac795",
       "value": 46629
      }
     },
     "333d5930db0a48c9aa1d66ef44bbbb5e": {
      "model_module": "@jupyter-widgets/controls",
      "model_module_version": "1.4.0",
      "model_name": "DescriptionStyleModel",
      "state": {
       "description_width": ""
      }
     },
     "3a5aaa62662742f7ad273eae3773bbba": {
      "model_module": "@jupyter-widgets/controls",
      "model_module_version": "1.4.0",
      "model_name": "HTMLModel",
      "state": {
       "layout": "IPY_MODEL_8c49fe79a1314e20b85675fe94413eb5",
       "style": "IPY_MODEL_5a857d06ee9947dfa3d327bbb9ab33a1",
       "value": "100% 46629/46629 [00:06&lt;00:00, 6671.87it/s]"
      }
     },
     "3d8534e1a8174314b9ff6f356f750dc8": {
      "model_module": "@jupyter-widgets/controls",
      "model_module_version": "1.4.0",
      "model_name": "HBoxModel",
      "state": {
       "children": [
        "IPY_MODEL_19430ad70f3a414cbd9b4373421df72c",
        "IPY_MODEL_8ec00e58fd8941a196e738a4bc678ae2"
       ],
       "layout": "IPY_MODEL_0fe6b331915d4de59765453807c5357b"
      }
     },
     "3fff95a4ddf6469ba6b26f633cb11a72": {
      "model_module": "@jupyter-widgets/base",
      "model_module_version": "1.1.0",
      "model_name": "LayoutModel",
      "state": {}
     },
     "479a0a0d5de54a4ea2d0c674ac0ac795": {
      "model_module": "@jupyter-widgets/controls",
      "model_module_version": "1.4.0",
      "model_name": "ProgressStyleModel",
      "state": {
       "description_width": "initial"
      }
     },
     "5a857d06ee9947dfa3d327bbb9ab33a1": {
      "model_module": "@jupyter-widgets/controls",
      "model_module_version": "1.4.0",
      "model_name": "DescriptionStyleModel",
      "state": {
       "description_width": ""
      }
     },
     "5ea0976c4385421cb57b1d5df85f0f7b": {
      "model_module": "@jupyter-widgets/controls",
      "model_module_version": "1.4.0",
      "model_name": "IntProgressModel",
      "state": {
       "bar_style": "success",
       "description": "Converting dataframe to Movie objects",
       "layout": "IPY_MODEL_d89330bdb50c40ec9dba4d2a6c6ccf9c",
       "max": 46629,
       "style": "IPY_MODEL_be7e33f9078d43528972405120738abd",
       "value": 46629
      }
     },
     "5f796c626e6840e2b4178663ba785ade": {
      "model_module": "@jupyter-widgets/controls",
      "model_module_version": "1.4.0",
      "model_name": "HBoxModel",
      "state": {
       "children": [
        "IPY_MODEL_f738aaabcc844c4982ae5c87ac68607c",
        "IPY_MODEL_3a5aaa62662742f7ad273eae3773bbba"
       ],
       "layout": "IPY_MODEL_8f53d9c2351f4afab7cf89d92e153d24"
      }
     },
     "8c49fe79a1314e20b85675fe94413eb5": {
      "model_module": "@jupyter-widgets/base",
      "model_module_version": "1.1.0",
      "model_name": "LayoutModel",
      "state": {}
     },
     "8ec00e58fd8941a196e738a4bc678ae2": {
      "model_module": "@jupyter-widgets/controls",
      "model_module_version": "1.4.0",
      "model_name": "HTMLModel",
      "state": {
       "layout": "IPY_MODEL_ff9a0133ebdb4f168bd3516b5d9d30f6",
       "style": "IPY_MODEL_333d5930db0a48c9aa1d66ef44bbbb5e",
       "value": "100% 46629/46629 [00:07&lt;00:00, 6298.61it/s]"
      }
     },
     "8f53d9c2351f4afab7cf89d92e153d24": {
      "model_module": "@jupyter-widgets/base",
      "model_module_version": "1.1.0",
      "model_name": "LayoutModel",
      "state": {}
     },
     "9322ae7825554a259c582101323969c3": {
      "model_module": "@jupyter-widgets/controls",
      "model_module_version": "1.4.0",
      "model_name": "HBoxModel",
      "state": {
       "children": [
        "IPY_MODEL_5ea0976c4385421cb57b1d5df85f0f7b",
        "IPY_MODEL_0e0976add11149dfada9691fcebfa59f"
       ],
       "layout": "IPY_MODEL_9f1eec574c6d4c8d96fe3cf8e24be6a6"
      }
     },
     "97efd23e9a934c3aaf191a489468953c": {
      "model_module": "@jupyter-widgets/controls",
      "model_module_version": "1.4.0",
      "model_name": "DescriptionStyleModel",
      "state": {
       "description_width": ""
      }
     },
     "9f1eec574c6d4c8d96fe3cf8e24be6a6": {
      "model_module": "@jupyter-widgets/base",
      "model_module_version": "1.1.0",
      "model_name": "LayoutModel",
      "state": {}
     },
     "b6c25540988646a99456734322f677af": {
      "model_module": "@jupyter-widgets/base",
      "model_module_version": "1.1.0",
      "model_name": "LayoutModel",
      "state": {}
     },
     "be7e33f9078d43528972405120738abd": {
      "model_module": "@jupyter-widgets/controls",
      "model_module_version": "1.4.0",
      "model_name": "ProgressStyleModel",
      "state": {
       "description_width": "initial"
      }
     },
     "c8351e473039472f92f7bf7adad9d6aa": {
      "model_module": "@jupyter-widgets/base",
      "model_module_version": "1.1.0",
      "model_name": "LayoutModel",
      "state": {}
     },
     "ce82952b8ddb4c42b5c135abe5b21977": {
      "model_module": "@jupyter-widgets/controls",
      "model_module_version": "1.4.0",
      "model_name": "ProgressStyleModel",
      "state": {
       "description_width": "initial"
      }
     },
     "d89330bdb50c40ec9dba4d2a6c6ccf9c": {
      "model_module": "@jupyter-widgets/base",
      "model_module_version": "1.1.0",
      "model_name": "LayoutModel",
      "state": {}
     },
     "f738aaabcc844c4982ae5c87ac68607c": {
      "model_module": "@jupyter-widgets/controls",
      "model_module_version": "1.4.0",
      "model_name": "IntProgressModel",
      "state": {
       "bar_style": "success",
       "description": "Converting dataframe to Movie objects",
       "layout": "IPY_MODEL_3fff95a4ddf6469ba6b26f633cb11a72",
       "max": 46629,
       "style": "IPY_MODEL_ce82952b8ddb4c42b5c135abe5b21977",
       "value": 46629
      }
     },
     "ff9a0133ebdb4f168bd3516b5d9d30f6": {
      "model_module": "@jupyter-widgets/base",
      "model_module_version": "1.1.0",
      "model_name": "LayoutModel",
      "state": {}
     }
    },
    "version_major": 2,
    "version_minor": 0
   }
  }
 },
 "nbformat": 4,
 "nbformat_minor": 2
}
