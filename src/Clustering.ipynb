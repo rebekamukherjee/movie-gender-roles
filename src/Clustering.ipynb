{
 "cells": [
  {
   "cell_type": "markdown",
   "metadata": {},
   "source": [
    "# import packages"
   ]
  },
  {
   "cell_type": "code",
   "execution_count": 1,
   "metadata": {
    "collapsed": true
   },
   "outputs": [],
   "source": [
    "import pickle\n",
    "import re\n",
    "import numpy as np\n",
    "from sklearn.cluster import SpectralClustering\n",
    "from sklearn.cluster import KMeans"
   ]
  },
  {
   "cell_type": "code",
   "execution_count": 2,
   "metadata": {},
   "outputs": [
    {
     "name": "stderr",
     "output_type": "stream",
     "text": [
      "/Users/driveresearch/anaconda3/lib/python2.7/site-packages/tqdm/autonotebook/__init__.py:14: TqdmExperimentalWarning: Using `tqdm.autonotebook.tqdm` in notebook mode. Use `tqdm.tqdm` instead to force console mode (e.g. in jupyter console)\n",
      "  \" (e.g. in jupyter console)\", TqdmExperimentalWarning)\n"
     ]
    }
   ],
   "source": [
    "from dataReader import *"
   ]
  },
  {
   "cell_type": "markdown",
   "metadata": {},
   "source": [
    "# read data"
   ]
  },
  {
   "cell_type": "code",
   "execution_count": 4,
   "metadata": {
    "collapsed": true
   },
   "outputs": [],
   "source": [
    "with open('../data/processed/movies.pkl', 'rb') as movies_pkl:\n",
    "    movies = pickle.load(movies_pkl)"
   ]
  },
  {
   "cell_type": "markdown",
   "metadata": {},
   "source": [
    "# clustering"
   ]
  },
  {
   "cell_type": "code",
   "execution_count": 5,
   "metadata": {
    "collapsed": true
   },
   "outputs": [],
   "source": [
    "def returnGenre(s):\n",
    "    p = re.finditer(r'name', s)\n",
    "    position = [m.start(0) for m in p]\n",
    "    allGenres = set()\n",
    "    for pos in position:\n",
    "        genre = ''\n",
    "        for i in range(pos+8, len(s)):\n",
    "            if s[i] == '\\'':\n",
    "                break\n",
    "            genre += s[i]\n",
    "        allGenres.add(genre)\n",
    "    return allGenres"
   ]
  },
  {
   "cell_type": "code",
   "execution_count": 6,
   "metadata": {
    "collapsed": true
   },
   "outputs": [],
   "source": [
    "uniqueGenres = set()\n",
    "uniqueLanguages = set()\n",
    "for movie in movies:\n",
    "    uniqueGenres.update(returnGenre(movie.genres))\n",
    "    if isinstance(movie.lang, str):\n",
    "        uniqueLanguages.add(movie.lang)"
   ]
  },
  {
   "cell_type": "code",
   "execution_count": 7,
   "metadata": {
    "collapsed": true
   },
   "outputs": [],
   "source": [
    "uniqueGenresDict = {k: v for v, k in enumerate(list(uniqueGenres))}\n",
    "uniqueLanguagesDict = {k: v for v, k in enumerate(list(uniqueLanguages))}"
   ]
  },
  {
   "cell_type": "code",
   "execution_count": 74,
   "metadata": {
    "collapsed": true
   },
   "outputs": [],
   "source": [
    "X = []\n",
    "for movie in movies:\n",
    "    if not isinstance(movie.lang, str):\n",
    "        language = len(uniqueLanguagesDict)\n",
    "    else:\n",
    "        language = uniqueLanguagesDict[movie.lang]\n",
    "    revenue = movie.revenue\n",
    "    vote = movie.vote_average\n",
    "    num_female = len(movie.cast.get_female_cast())\n",
    "    num_male = len(movie.cast.get_male_cast())\n",
    "    genres = returnGenre(movie.genres)\n",
    "    for g in genres:\n",
    "        genre = uniqueGenresDict[g]\n",
    "        line = [language, revenue, vote, num_female, num_male, genre]\n",
    "    X.append(line)\n",
    "X = np.array(X)"
   ]
  },
  {
   "cell_type": "code",
   "execution_count": 102,
   "metadata": {
    "collapsed": true
   },
   "outputs": [],
   "source": [
    "# clustering = SpectralClustering(n_clusters=5).fit(X)\n",
    "clustering = KMeans(n_clusters=20).fit(X)"
   ]
  },
  {
   "cell_type": "code",
   "execution_count": 104,
   "metadata": {
    "collapsed": true
   },
   "outputs": [],
   "source": [
    "allData = np.c_[X,clustering.labels_]"
   ]
  },
  {
   "cell_type": "code",
   "execution_count": 123,
   "metadata": {
    "collapsed": true
   },
   "outputs": [],
   "source": [
    "labelGenre = {}\n",
    "for row in allData:\n",
    "    label = int(row[6])\n",
    "    if label in labelGenre:\n",
    "        labelGenre[label].append(int(row[5]))\n",
    "    else:\n",
    "        labelGenre[label] = [int(row[5])]\n",
    "for item in labelGenre:\n",
    "    lst = labelGenre[item]\n",
    "    dom_genre = max(set(lst), key=lst.count)\n",
    "    labelGenre[item] = list(uniqueGenresDict.keys())[list(uniqueGenresDict.values()).index(dom_genre)]"
   ]
  },
  {
   "cell_type": "code",
   "execution_count": 124,
   "metadata": {
    "collapsed": true
   },
   "outputs": [],
   "source": [
    "labelFemale = {}\n",
    "labelMale = {}\n",
    "for row in allData:\n",
    "    label = int(row[6])\n",
    "    if label in labelFemale:\n",
    "        labelFemale[label].append(int(row[3]))\n",
    "    else:\n",
    "        labelFemale[label] = [int(row[3])]\n",
    "    if label in labelMale:\n",
    "        labelMale[label].append(int(row[4]))\n",
    "    else:\n",
    "        labelMale[label] = [int(row[4])]\n",
    "for label in labelFemale:\n",
    "    lst = labelFemale[label]\n",
    "    labelFemale[label] = sum(lst)/len(lst)\n",
    "for label in labelMale:\n",
    "    lst = labelMale[label]\n",
    "    labelMale[label] = sum(lst)/len(lst)"
   ]
  },
  {
   "cell_type": "code",
   "execution_count": 125,
   "metadata": {},
   "outputs": [
    {
     "name": "stdout",
     "output_type": "stream",
     "text": [
      "(0, 'Comedy', 0.333, 0.667)\n",
      "(1, 'Family', 0.238, 0.762)\n",
      "(2, 'Comedy', 0.3, 0.7)\n",
      "(3, 'Adventure', 0.323, 0.677)\n",
      "(4, 'Comedy', 0.313, 0.688)\n",
      "(5, 'Fantasy', 0.349, 0.651)\n",
      "(6, 'Family', 0.318, 0.682)\n",
      "(7, 'Family', 0.308, 0.692)\n",
      "(8, 'Comedy', 0.313, 0.688)\n",
      "(9, 'Adventure', 0.31, 0.69)\n",
      "(10, 'Adventure', 0.327, 0.673)\n",
      "(11, 'Comedy', 0.333, 0.667)\n",
      "(12, 'Crime', 0.316, 0.684)\n",
      "(13, 'Thriller', 0.25, 0.75)\n",
      "(14, 'Science Fiction', 0.375, 0.625)\n",
      "(15, 'Comedy', 0.333, 0.667)\n",
      "(16, 'Family', 0.35, 0.65)\n",
      "(17, 'Comedy', 0.353, 0.647)\n",
      "(18, 'Family', 0.229, 0.771)\n",
      "(19, 'Adventure', 0.303, 0.697)\n"
     ]
    }
   ],
   "source": [
    "for label in labelGenre:\n",
    "    genre = labelGenre[label]\n",
    "    percFemale = round(float(labelFemale[label])/(labelFemale[label]+labelMale[label]), 3)\n",
    "    percMale = round(float(labelMale[label])/(labelFemale[label]+labelMale[label]), 3)\n",
    "    print (label, genre, percFemale, percMale)"
   ]
  },
  {
   "cell_type": "markdown",
   "metadata": {},
   "source": [
    "Interesting things to note:\n",
    "\n",
    "- In most genres, the distribution is 0.3, 0.7\n",
    "- Fantasy and Science Fiction movies have higher percentage of female cast than other genres\n",
    "- Family movies have the highest percentage of male cast than other genres (weird?)"
   ]
  },
  {
   "cell_type": "markdown",
   "metadata": {},
   "source": [
    "# similarity"
   ]
  },
  {
   "cell_type": "code",
   "execution_count": null,
   "metadata": {
    "collapsed": true
   },
   "outputs": [],
   "source": []
  }
 ],
 "metadata": {
  "kernelspec": {
   "display_name": "Python 3",
   "language": "python",
   "name": "python3"
  },
  "language_info": {
   "codemirror_mode": {
    "name": "ipython",
    "version": 3
   },
   "file_extension": ".py",
   "mimetype": "text/x-python",
   "name": "python",
   "nbconvert_exporter": "python",
   "pygments_lexer": "ipython3",
   "version": "3.6.1"
  }
 },
 "nbformat": 4,
 "nbformat_minor": 2
}
